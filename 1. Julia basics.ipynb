{
 "cells": [
  {
   "cell_type": "markdown",
   "id": "oriented-ancient",
   "metadata": {},
   "source": [
    "# 1.2 Basic Grammer"
   ]
  },
  {
   "cell_type": "markdown",
   "id": "liberal-cream",
   "metadata": {},
   "source": [
    "## 1.2.1 Variables and Basic Operations"
   ]
  },
  {
   "cell_type": "code",
   "execution_count": 1,
   "id": "nonprofit-seeker",
   "metadata": {},
   "outputs": [
    {
     "data": {
      "text/plain": [
       "\"Hi!\""
      ]
     },
     "execution_count": 1,
     "metadata": {},
     "output_type": "execute_result"
    }
   ],
   "source": [
    "x = 3\n",
    "y = 1.2\n",
    "z = \"Hi!\""
   ]
  },
  {
   "cell_type": "code",
   "execution_count": 2,
   "id": "removed-quantum",
   "metadata": {},
   "outputs": [
    {
     "data": {
      "text/plain": [
       "Int64"
      ]
     },
     "execution_count": 2,
     "metadata": {},
     "output_type": "execute_result"
    }
   ],
   "source": [
    "typeof(x)"
   ]
  },
  {
   "cell_type": "code",
   "execution_count": 3,
   "id": "funny-omega",
   "metadata": {},
   "outputs": [
    {
     "data": {
      "text/plain": [
       "Float64"
      ]
     },
     "execution_count": 3,
     "metadata": {},
     "output_type": "execute_result"
    }
   ],
   "source": [
    "typeof(y)"
   ]
  },
  {
   "cell_type": "code",
   "execution_count": 4,
   "id": "explicit-summary",
   "metadata": {},
   "outputs": [
    {
     "data": {
      "text/plain": [
       "String"
      ]
     },
     "execution_count": 4,
     "metadata": {},
     "output_type": "execute_result"
    }
   ],
   "source": [
    "typeof(z)"
   ]
  },
  {
   "cell_type": "code",
   "execution_count": 5,
   "id": "square-decimal",
   "metadata": {},
   "outputs": [
    {
     "data": {
      "text/plain": [
       "4"
      ]
     },
     "execution_count": 5,
     "metadata": {},
     "output_type": "execute_result"
    }
   ],
   "source": [
    "x + 1"
   ]
  },
  {
   "cell_type": "markdown",
   "id": "loaded-grove",
   "metadata": {},
   "source": [
    "### Unicode input https://docs.julialang.org/en/v1/manual/unicode-input/"
   ]
  },
  {
   "cell_type": "code",
   "execution_count": 6,
   "id": "biblical-humidity",
   "metadata": {},
   "outputs": [
    {
     "data": {
      "text/plain": [
       "4.0"
      ]
     },
     "execution_count": 6,
     "metadata": {},
     "output_type": "execute_result"
    }
   ],
   "source": [
    "# ギリシャ文字\n",
    "μ = 0.0 #(\\mu)\n",
    "σ = 2.0 #(\\sigma)\n",
    "# 下付き\n",
    "xᵢ = 0 #(x\\_i)\n",
    "# 上付き\n",
    "σ² = σ^2 #(\\sigma\\^2)"
   ]
  },
  {
   "cell_type": "markdown",
   "id": "entire-christopher",
   "metadata": {},
   "source": [
    "## 1.2.2 Control Syntax"
   ]
  },
  {
   "cell_type": "code",
   "execution_count": 7,
   "id": "active-indianapolis",
   "metadata": {},
   "outputs": [
    {
     "name": "stdout",
     "output_type": "stream",
     "text": [
      " x is less than y. \n"
     ]
    }
   ],
   "source": [
    "x = 1.0\n",
    "y = 2.0\n",
    "if x < y\n",
    "    println(\" x is less than y. \")\n",
    "elseif x ==y\n",
    "    println(\"x is equal to y. \")\n",
    "else\n",
    "    println(\"x is greater than y. \")\n",
    "end"
   ]
  },
  {
   "cell_type": "code",
   "execution_count": 8,
   "id": "narrow-tucson",
   "metadata": {},
   "outputs": [
    {
     "name": "stdout",
     "output_type": "stream",
     "text": [
      "T\n"
     ]
    }
   ],
   "source": [
    "x = -3\n",
    "y = x < 0 ? \"T\" : \"F\" # Ternary operator\n",
    "println(y)"
   ]
  },
  {
   "cell_type": "code",
   "execution_count": 9,
   "id": "metallic-alcohol",
   "metadata": {},
   "outputs": [
    {
     "name": "stdout",
     "output_type": "stream",
     "text": [
      "a = 1, b = 0\n"
     ]
    }
   ],
   "source": [
    "a = 0\n",
    "b = 0\n",
    "true && (a = 1) # Short-Circuit Evaluation\n",
    "true || (b = 1)\n",
    "println(\"a = $(a), b = $(b)\")"
   ]
  },
  {
   "cell_type": "code",
   "execution_count": 10,
   "id": "casual-crown",
   "metadata": {},
   "outputs": [
    {
     "name": "stdout",
     "output_type": "stream",
     "text": [
      "1\n",
      "2\n",
      "3\n",
      "4\n",
      "5\n",
      "6\n",
      "7\n",
      "8\n",
      "9\n",
      "10\n"
     ]
    }
   ],
   "source": [
    "for i in 1:10\n",
    "    println(i)\n",
    "end"
   ]
  },
  {
   "cell_type": "markdown",
   "id": "94df62ab",
   "metadata": {},
   "source": [
    "## 1.2.3 Function"
   ]
  },
  {
   "cell_type": "code",
   "execution_count": 11,
   "id": "7d5da3f5",
   "metadata": {},
   "outputs": [
    {
     "data": {
      "text/plain": [
       "myinv (generic function with 1 method)"
      ]
     },
     "execution_count": 11,
     "metadata": {},
     "output_type": "execute_result"
    }
   ],
   "source": [
    "myinv(x) = 1/x"
   ]
  },
  {
   "cell_type": "code",
   "execution_count": 12,
   "id": "72764ef8",
   "metadata": {},
   "outputs": [
    {
     "data": {
      "text/plain": [
       "0.3333333333333333"
      ]
     },
     "execution_count": 12,
     "metadata": {},
     "output_type": "execute_result"
    }
   ],
   "source": [
    "myinv(3)"
   ]
  },
  {
   "cell_type": "code",
   "execution_count": 13,
   "id": "c58ee9f1",
   "metadata": {},
   "outputs": [
    {
     "data": {
      "text/plain": [
       "myinv (generic function with 1 method)"
      ]
     },
     "execution_count": 13,
     "metadata": {},
     "output_type": "execute_result"
    }
   ],
   "source": [
    "function myinv(x)\n",
    "    return 1/x    # returnは省略可能\n",
    "end"
   ]
  },
  {
   "cell_type": "code",
   "execution_count": 14,
   "id": "de9674ed",
   "metadata": {},
   "outputs": [
    {
     "data": {
      "text/plain": [
       "mymean (generic function with 1 method)"
      ]
     },
     "execution_count": 14,
     "metadata": {},
     "output_type": "execute_result"
    }
   ],
   "source": [
    "function mymean(x, y)\n",
    "    return (x + y) / 2\n",
    "end"
   ]
  },
  {
   "cell_type": "code",
   "execution_count": 15,
   "id": "765e2745",
   "metadata": {},
   "outputs": [
    {
     "data": {
      "text/plain": [
       "1.5"
      ]
     },
     "execution_count": 15,
     "metadata": {},
     "output_type": "execute_result"
    }
   ],
   "source": [
    "mymean(1.0, 2.0)"
   ]
  },
  {
   "cell_type": "markdown",
   "id": "cooperative-apple",
   "metadata": {},
   "source": [
    "## 1.2.4 Array"
   ]
  },
  {
   "cell_type": "code",
   "execution_count": 16,
   "id": "specialized-rocket",
   "metadata": {},
   "outputs": [
    {
     "data": {
      "text/plain": [
       "3-element Vector{Int64}:\n",
       " 1\n",
       " 2\n",
       " 3"
      ]
     },
     "execution_count": 16,
     "metadata": {},
     "output_type": "execute_result"
    }
   ],
   "source": [
    "a = [1, 2, 3] # 縦ベクトル（, ~カンマ~で区切る）"
   ]
  },
  {
   "cell_type": "code",
   "execution_count": 17,
   "id": "played-dayton",
   "metadata": {},
   "outputs": [
    {
     "data": {
      "text/plain": [
       "3-element Vector{Int64}:\n",
       " 1\n",
       " 2\n",
       " 3"
      ]
     },
     "execution_count": 17,
     "metadata": {},
     "output_type": "execute_result"
    }
   ],
   "source": [
    "b = [1, 2, 3] # 横ベクトル（\" \"~スペースで区切る），1x3行列とみなされる"
   ]
  },
  {
   "cell_type": "code",
   "execution_count": 18,
   "id": "close-yesterday",
   "metadata": {},
   "outputs": [
    {
     "data": {
      "text/plain": [
       "3-element Vector{Float64}:\n",
       " 2.3719286923e-314\n",
       " 2.247177425e-314\n",
       " 2.3709330433e-314"
      ]
     },
     "execution_count": 18,
     "metadata": {},
     "output_type": "execute_result"
    }
   ],
   "source": [
    "c = Array{Float64}(undef, 3) # 各要素がFloat64型の配列を，値を初期化せずにメモリ上に確保"
   ]
  },
  {
   "cell_type": "code",
   "execution_count": 19,
   "id": "sacred-convenience",
   "metadata": {},
   "outputs": [
    {
     "data": {
      "text/plain": [
       "3-element Vector{Float64}:\n",
       " 0.0\n",
       " 0.0\n",
       " 0.0"
      ]
     },
     "execution_count": 19,
     "metadata": {},
     "output_type": "execute_result"
    }
   ],
   "source": [
    "d = zeros(3) # zeros関数 ゼロを並べた配列"
   ]
  },
  {
   "cell_type": "code",
   "execution_count": 20,
   "id": "painful-chaos",
   "metadata": {},
   "outputs": [
    {
     "data": {
      "text/plain": [
       "3-element Vector{Float64}:\n",
       " 1.0\n",
       " 1.0\n",
       " 1.0"
      ]
     },
     "execution_count": 20,
     "metadata": {},
     "output_type": "execute_result"
    }
   ],
   "source": [
    "e = ones(3) # ones関数 1を並べた配列"
   ]
  },
  {
   "cell_type": "code",
   "execution_count": 21,
   "id": "antique-southwest",
   "metadata": {},
   "outputs": [
    {
     "data": {
      "text/plain": [
       "3-element Vector{Float64}:\n",
       " 0.8580841476014234\n",
       " 0.8477210080594701\n",
       " 0.2655787984616036"
      ]
     },
     "execution_count": 21,
     "metadata": {},
     "output_type": "execute_result"
    }
   ],
   "source": [
    "f = rand(3) # rand関数 0~1までの一様にランダムな実数を生成"
   ]
  },
  {
   "cell_type": "code",
   "execution_count": 22,
   "id": "pretty-seafood",
   "metadata": {},
   "outputs": [
    {
     "data": {
      "text/plain": [
       "3-element Vector{Float64}:\n",
       " 0.3897673908800641\n",
       " 0.22440543886835512\n",
       " 1.465828852103693"
      ]
     },
     "execution_count": 22,
     "metadata": {},
     "output_type": "execute_result"
    }
   ],
   "source": [
    "g = randn(3) # randn関数 平均0，標準偏差1の正規分布から乱数を得る"
   ]
  },
  {
   "cell_type": "code",
   "execution_count": 23,
   "id": "rental-childhood",
   "metadata": {},
   "outputs": [
    {
     "data": {
      "text/plain": [
       "2×4 Matrix{Int64}:\n",
       " 1  2  3  4\n",
       " 5  6  7  8"
      ]
     },
     "execution_count": 23,
     "metadata": {},
     "output_type": "execute_result"
    }
   ],
   "source": [
    "A = [1 2 3 4; \n",
    "     5 6 7 8] # 2x4サイズの行列"
   ]
  },
  {
   "cell_type": "code",
   "execution_count": 24,
   "id": "young-value",
   "metadata": {},
   "outputs": [
    {
     "data": {
      "text/plain": [
       "2×4 Matrix{Float64}:\n",
       " 1.0  1.0  1.0  1.0\n",
       " 1.0  1.0  1.0  1.0"
      ]
     },
     "execution_count": 24,
     "metadata": {},
     "output_type": "execute_result"
    }
   ],
   "source": [
    "B = ones(2, 4)"
   ]
  },
  {
   "cell_type": "code",
   "execution_count": 25,
   "id": "absolute-client",
   "metadata": {},
   "outputs": [
    {
     "data": {
      "text/plain": [
       "(2, 4)"
      ]
     },
     "execution_count": 25,
     "metadata": {},
     "output_type": "execute_result"
    }
   ],
   "source": [
    "size(A) # size関数 行列のサイズを得る"
   ]
  },
  {
   "cell_type": "code",
   "execution_count": 26,
   "id": "verbal-raising",
   "metadata": {},
   "outputs": [
    {
     "data": {
      "text/plain": [
       "8"
      ]
     },
     "execution_count": 26,
     "metadata": {},
     "output_type": "execute_result"
    }
   ],
   "source": [
    "length(A) # lenngth関数 ベクトルや行列の要素の個数を得る"
   ]
  },
  {
   "cell_type": "code",
   "execution_count": 27,
   "id": "supported-minnesota",
   "metadata": {},
   "outputs": [
    {
     "data": {
      "text/plain": [
       "5"
      ]
     },
     "execution_count": 27,
     "metadata": {},
     "output_type": "execute_result"
    }
   ],
   "source": [
    "A[2, 1] # 2行, 1列目の要素を出力"
   ]
  },
  {
   "cell_type": "code",
   "execution_count": 28,
   "id": "aggressive-mitchell",
   "metadata": {},
   "outputs": [
    {
     "data": {
      "text/plain": [
       "4-element Vector{Int64}:\n",
       " 5\n",
       " 6\n",
       " 7\n",
       " 8"
      ]
     },
     "execution_count": 28,
     "metadata": {},
     "output_type": "execute_result"
    }
   ],
   "source": [
    "A[2, :] # 2行目を配列として出力"
   ]
  },
  {
   "cell_type": "code",
   "execution_count": 29,
   "id": "everyday-thriller",
   "metadata": {},
   "outputs": [
    {
     "data": {
      "text/plain": [
       "2-element Vector{Int64}:\n",
       " 1\n",
       " 5"
      ]
     },
     "execution_count": 29,
     "metadata": {},
     "output_type": "execute_result"
    }
   ],
   "source": [
    "A[:, 1] # 1行目を配列として出力"
   ]
  },
  {
   "cell_type": "code",
   "execution_count": 30,
   "id": "mathematical-return",
   "metadata": {},
   "outputs": [
    {
     "data": {
      "text/plain": [
       "2×3 Matrix{Int64}:\n",
       " 1  2  3\n",
       " 5  6  7"
      ]
     },
     "execution_count": 30,
     "metadata": {},
     "output_type": "execute_result"
    }
   ],
   "source": [
    "A[:, 1:3] # 1~3列目を部分行列として出力"
   ]
  },
  {
   "cell_type": "code",
   "execution_count": 31,
   "id": "diagnostic-horror",
   "metadata": {},
   "outputs": [
    {
     "data": {
      "text/plain": [
       "5-element Vector{Int64}:\n",
       "  2\n",
       "  4\n",
       "  6\n",
       "  8\n",
       " 10"
      ]
     },
     "execution_count": 31,
     "metadata": {},
     "output_type": "execute_result"
    }
   ],
   "source": [
    "[2*i for i in 1:5] # ループを使って配列を生成"
   ]
  },
  {
   "cell_type": "code",
   "execution_count": 32,
   "id": "solved-clark",
   "metadata": {},
   "outputs": [
    {
     "data": {
      "text/plain": [
       "3×4 Matrix{Int64}:\n",
       " 1  2  3   4\n",
       " 2  4  6   8\n",
       " 3  6  9  12"
      ]
     },
     "execution_count": 32,
     "metadata": {},
     "output_type": "execute_result"
    }
   ],
   "source": [
    "[i*j for i in 1:3, j in 1:4] # ループを2つ回して行列を生成"
   ]
  },
  {
   "cell_type": "code",
   "execution_count": 33,
   "id": "operational-trinity",
   "metadata": {},
   "outputs": [
    {
     "data": {
      "text/plain": [
       "(1, 2, 3)"
      ]
     },
     "execution_count": 33,
     "metadata": {},
     "output_type": "execute_result"
    }
   ],
   "source": [
    "params = (1, 2, 3) #タプル（tuple）"
   ]
  },
  {
   "cell_type": "code",
   "execution_count": 34,
   "id": "ordered-exposure",
   "metadata": {},
   "outputs": [
    {
     "ename": "LoadError",
     "evalue": "cannot define function f; it already has a value",
     "output_type": "error",
     "traceback": [
      "cannot define function f; it already has a value",
      "",
      "Stacktrace:",
      " [1] top-level scope",
      "   @ none:0",
      " [2] top-level scope",
      "   @ In[34]:1",
      " [3] eval",
      "   @ ./boot.jl:368 [inlined]",
      " [4] include_string(mapexpr::typeof(REPL.softscope), mod::Module, code::String, filename::String)",
      "   @ Base ./loading.jl:1428"
     ]
    }
   ],
   "source": [
    "f(a, b, c) = a + b + c\n",
    "f(params...)"
   ]
  },
  {
   "cell_type": "markdown",
   "id": "verbal-alias",
   "metadata": {},
   "source": [
    "## 1.2.5 ブロードキャスト (broadcast)"
   ]
  },
  {
   "cell_type": "code",
   "execution_count": 35,
   "id": "oriental-exclusive",
   "metadata": {},
   "outputs": [
    {
     "ename": "LoadError",
     "evalue": "MethodError: no method matching +(::Vector{Int64}, ::Int64)\nFor element-wise addition, use broadcasting with dot syntax: array .+ scalar\n\u001b[0mClosest candidates are:\n\u001b[0m  +(::Any, ::Any, \u001b[91m::Any\u001b[39m, \u001b[91m::Any...\u001b[39m) at operators.jl:591\n\u001b[0m  +(\u001b[91m::T\u001b[39m, ::T) where T<:Union{Int128, Int16, Int32, Int64, Int8, UInt128, UInt16, UInt32, UInt64, UInt8} at int.jl:87\n\u001b[0m  +(\u001b[91m::Rational\u001b[39m, ::Integer) at rational.jl:313\n\u001b[0m  ...",
     "output_type": "error",
     "traceback": [
      "MethodError: no method matching +(::Vector{Int64}, ::Int64)\nFor element-wise addition, use broadcasting with dot syntax: array .+ scalar\n\u001b[0mClosest candidates are:\n\u001b[0m  +(::Any, ::Any, \u001b[91m::Any\u001b[39m, \u001b[91m::Any...\u001b[39m) at operators.jl:591\n\u001b[0m  +(\u001b[91m::T\u001b[39m, ::T) where T<:Union{Int128, Int16, Int32, Int64, Int8, UInt128, UInt16, UInt32, UInt64, UInt8} at int.jl:87\n\u001b[0m  +(\u001b[91m::Rational\u001b[39m, ::Integer) at rational.jl:313\n\u001b[0m  ...",
      "",
      "Stacktrace:",
      " [1] top-level scope",
      "   @ In[35]:2",
      " [2] eval",
      "   @ ./boot.jl:368 [inlined]",
      " [3] include_string(mapexpr::typeof(REPL.softscope), mod::Module, code::String, filename::String)",
      "   @ Base ./loading.jl:1428"
     ]
    }
   ],
   "source": [
    "a = [1, 2, 3] # 縦ベクトル\n",
    "a + 1         # エラーが出る例"
   ]
  },
  {
   "cell_type": "code",
   "execution_count": 36,
   "id": "neutral-belief",
   "metadata": {},
   "outputs": [
    {
     "data": {
      "text/plain": [
       "3-element Vector{Int64}:\n",
       " 2\n",
       " 3\n",
       " 4"
      ]
     },
     "execution_count": 36,
     "metadata": {},
     "output_type": "execute_result"
    }
   ],
   "source": [
    "a .+ 1  # Juliaではドット（.）を付けた.+演算子は要素毎の計算を行うことを意味する．"
   ]
  },
  {
   "cell_type": "code",
   "execution_count": 37,
   "id": "associate-hunter",
   "metadata": {},
   "outputs": [
    {
     "data": {
      "text/plain": [
       "2.0"
      ]
     },
     "execution_count": 37,
     "metadata": {},
     "output_type": "execute_result"
    }
   ],
   "source": [
    "function add_one(x) # 与えられた変数に対して1を加える関数\n",
    "    x + 1\n",
    "end\n",
    "add_one(1.0)"
   ]
  },
  {
   "cell_type": "code",
   "execution_count": 38,
   "id": "sweet-pasta",
   "metadata": {},
   "outputs": [
    {
     "data": {
      "text/plain": [
       "3-element Vector{Int64}:\n",
       " 2\n",
       " 3\n",
       " 4"
      ]
     },
     "execution_count": 38,
     "metadata": {},
     "output_type": "execute_result"
    }
   ],
   "source": [
    "add_one.([1, 2, 3]) # 配列の各要素に関して計算するために，add_one関数にドットを付けて，add_one. とする．"
   ]
  },
  {
   "cell_type": "markdown",
   "id": "surface-vulnerability",
   "metadata": {},
   "source": [
    "## 1.2.4 無名関数（anonymous function）"
   ]
  },
  {
   "cell_type": "code",
   "execution_count": 39,
   "id": "eleven-cloud",
   "metadata": {},
   "outputs": [
    {
     "data": {
      "text/plain": [
       "#5 (generic function with 1 method)"
      ]
     },
     "execution_count": 39,
     "metadata": {},
     "output_type": "execute_result"
    }
   ],
   "source": [
    "x -> x + 1"
   ]
  },
  {
   "cell_type": "code",
   "execution_count": 40,
   "id": "mature-offering",
   "metadata": {},
   "outputs": [
    {
     "data": {
      "text/plain": [
       "3-element Vector{Int64}:\n",
       " 2\n",
       " 3\n",
       " 4"
      ]
     },
     "execution_count": 40,
     "metadata": {},
     "output_type": "execute_result"
    }
   ],
   "source": [
    "map(x -> x + 1, [1, 2, 3]) # map関数"
   ]
  },
  {
   "cell_type": "markdown",
   "id": "processed-modeling",
   "metadata": {},
   "source": [
    "## 1.2.7 マクロ（macro）"
   ]
  },
  {
   "cell_type": "code",
   "execution_count": 41,
   "id": "motivated-bones",
   "metadata": {},
   "outputs": [
    {
     "name": "stdout",
     "output_type": "stream",
     "text": [
      "  0.007379 seconds (201.39 k allocations: 4.962 MiB, 36.64% compilation time)\n"
     ]
    },
    {
     "data": {
      "text/plain": [
       "479.1043857040541"
      ]
     },
     "execution_count": 41,
     "metadata": {},
     "output_type": "execute_result"
    }
   ],
   "source": [
    "function test(maxiter)\n",
    "    a = []\n",
    "    for i in 1:maxiter\n",
    "        push!(a, randn())\n",
    "    end\n",
    "    sum(a)\n",
    "end\n",
    "@time test(100000)"
   ]
  },
  {
   "cell_type": "code",
   "execution_count": null,
   "id": "forced-neutral",
   "metadata": {},
   "outputs": [],
   "source": []
  }
 ],
 "metadata": {
  "kernelspec": {
   "display_name": "Julia 1.8.1",
   "language": "julia",
   "name": "julia-1.8"
  },
  "language_info": {
   "file_extension": ".jl",
   "mimetype": "application/julia",
   "name": "julia",
   "version": "1.8.1"
  }
 },
 "nbformat": 4,
 "nbformat_minor": 5
}
