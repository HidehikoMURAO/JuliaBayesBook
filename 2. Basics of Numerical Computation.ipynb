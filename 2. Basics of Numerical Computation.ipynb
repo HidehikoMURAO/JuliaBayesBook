{
 "cells": [
  {
   "cell_type": "markdown",
   "id": "deadly-clock",
   "metadata": {},
   "source": [
    "## 2.1 vector and matrix computations"
   ]
  },
  {
   "cell_type": "markdown",
   "id": "excessive-unknown",
   "metadata": {},
   "source": [
    "### 2.1.1 Vector computation"
   ]
  },
  {
   "cell_type": "code",
   "execution_count": 1,
   "id": "incredible-simple",
   "metadata": {},
   "outputs": [
    {
     "data": {
      "text/plain": [
       "3-element Vector{Int64}:\n",
       " 2\n",
       " 4\n",
       " 6"
      ]
     },
     "execution_count": 1,
     "metadata": {},
     "output_type": "execute_result"
    }
   ],
   "source": [
    "a = [1, 2, 3] # ベクトルに対してスカラー値を掛けると要素毎に値が掛け算されたベクトルが出力される\n",
    "2 * a"
   ]
  },
  {
   "cell_type": "code",
   "execution_count": 2,
   "id": "surface-cross",
   "metadata": {},
   "outputs": [
    {
     "data": {
      "text/plain": [
       "3-element Vector{Int64}:\n",
       " 5\n",
       " 7\n",
       " 9"
      ]
     },
     "execution_count": 2,
     "metadata": {},
     "output_type": "execute_result"
    }
   ],
   "source": [
    "b = [4, 5, 6]\n",
    "a + b # ベクトルのサイズが同じであることが必要"
   ]
  },
  {
   "cell_type": "code",
   "execution_count": 3,
   "id": "internal-working",
   "metadata": {},
   "outputs": [
    {
     "data": {
      "text/plain": [
       "3-element Vector{Int64}:\n",
       "  4\n",
       " 10\n",
       " 18"
      ]
     },
     "execution_count": 3,
     "metadata": {},
     "output_type": "execute_result"
    }
   ],
   "source": [
    "a .* b # 対応する要素毎に掛け合わせたい場合は .* によってブロードキャストする"
   ]
  },
  {
   "cell_type": "code",
   "execution_count": 4,
   "id": "familiar-medium",
   "metadata": {},
   "outputs": [
    {
     "data": {
      "text/plain": [
       "32"
      ]
     },
     "execution_count": 4,
     "metadata": {},
     "output_type": "execute_result"
    }
   ],
   "source": [
    "sum(a .* b) # 内積を行うには，上記の各要素の掛け算をsum関数で足し合わせる"
   ]
  },
  {
   "cell_type": "code",
   "execution_count": 5,
   "id": "matched-skirt",
   "metadata": {},
   "outputs": [
    {
     "data": {
      "text/plain": [
       "32"
      ]
     },
     "execution_count": 5,
     "metadata": {},
     "output_type": "execute_result"
    }
   ],
   "source": [
    "a' * b # 内積は，1x3と3x1の行列の積と考えると記述がシンプルになる"
   ]
  },
  {
   "cell_type": "markdown",
   "id": "internal-perfume",
   "metadata": {},
   "source": [
    "### 2.1.2 Matrix computation"
   ]
  },
  {
   "cell_type": "code",
   "execution_count": 6,
   "id": "known-asbestos",
   "metadata": {},
   "outputs": [
    {
     "data": {
      "text/plain": [
       "2×3 Matrix{Int64}:\n",
       " 11  22  33\n",
       " 44  55  66"
      ]
     },
     "execution_count": 6,
     "metadata": {},
     "output_type": "execute_result"
    }
   ],
   "source": [
    "A = [1 2 3;\n",
    "     4 5 6]\n",
    "B = [10 20 30; \n",
    "     40 50 60]\n",
    "A + B # 行列同士の和"
   ]
  },
  {
   "cell_type": "code",
   "execution_count": 7,
   "id": "valued-montreal",
   "metadata": {},
   "outputs": [
    {
     "data": {
      "text/plain": [
       "3×4 Matrix{Int64}:\n",
       " 110  140  170  200\n",
       " 230  300  370  440\n",
       " 350  460  570  680"
      ]
     },
     "execution_count": 7,
     "metadata": {},
     "output_type": "execute_result"
    }
   ],
   "source": [
    "A = [1 2; \n",
    "     3 4;\n",
    "     5 6] # 3x2行列\n",
    "B = [10 20 30 40; \n",
    "     50 60 70 80] # 2x4行列　\n",
    "C = A * B # 行列積(matrix product)"
   ]
  },
  {
   "cell_type": "markdown",
   "id": "brutal-wrist",
   "metadata": {},
   "source": [
    "行列Cのi列j行目の要素は次式で計算される．\n",
    "$$\n",
    "C_{i, j} = \\sum_{k = 1}^{K} A_{i, k} B_{k, j}\n",
    "$$"
   ]
  },
  {
   "cell_type": "code",
   "execution_count": 8,
   "id": "suburban-spray",
   "metadata": {},
   "outputs": [
    {
     "data": {
      "text/plain": [
       "3×4 Matrix{Int64}:\n",
       " 110  140  170  200\n",
       " 230  300  370  440\n",
       " 350  460  570  680"
      ]
     },
     "execution_count": 8,
     "metadata": {},
     "output_type": "execute_result"
    }
   ],
   "source": [
    "M = size(A, 1) # Aの行数\n",
    "N = size(B, 2) # Bの列数\n",
    "\n",
    "# M x N の行列を作成\n",
    "C = [sum(A[i,:] .* B[:,j]) for i in 1:M, j in 1:N]"
   ]
  },
  {
   "cell_type": "code",
   "execution_count": 9,
   "id": "chemical-scholar",
   "metadata": {},
   "outputs": [
    {
     "ename": "LoadError",
     "evalue": "DimensionMismatch: matrix A has dimensions (2,4), matrix B has dimensions (3,2)",
     "output_type": "error",
     "traceback": [
      "DimensionMismatch: matrix A has dimensions (2,4), matrix B has dimensions (3,2)",
      "",
      "Stacktrace:",
      " [1] _generic_matmatmul!(C::Matrix{Int64}, tA::Char, tB::Char, A::Matrix{Int64}, B::Matrix{Int64}, _add::LinearAlgebra.MulAddMul{true, true, Bool, Bool})",
      "   @ LinearAlgebra /Applications/Julia-1.8.app/Contents/Resources/julia/share/julia/stdlib/v1.8/LinearAlgebra/src/matmul.jl:856",
      " [2] generic_matmatmul!(C::Matrix{Int64}, tA::Char, tB::Char, A::Matrix{Int64}, B::Matrix{Int64}, _add::LinearAlgebra.MulAddMul{true, true, Bool, Bool})",
      "   @ LinearAlgebra /Applications/Julia-1.8.app/Contents/Resources/julia/share/julia/stdlib/v1.8/LinearAlgebra/src/matmul.jl:844",
      " [3] mul!",
      "   @ /Applications/Julia-1.8.app/Contents/Resources/julia/share/julia/stdlib/v1.8/LinearAlgebra/src/matmul.jl:303 [inlined]",
      " [4] mul!",
      "   @ /Applications/Julia-1.8.app/Contents/Resources/julia/share/julia/stdlib/v1.8/LinearAlgebra/src/matmul.jl:276 [inlined]",
      " [5] *(A::Matrix{Int64}, B::Matrix{Int64})",
      "   @ LinearAlgebra /Applications/Julia-1.8.app/Contents/Resources/julia/share/julia/stdlib/v1.8/LinearAlgebra/src/matmul.jl:141",
      " [6] top-level scope",
      "   @ In[9]:1",
      " [7] eval",
      "   @ ./boot.jl:368 [inlined]",
      " [8] include_string(mapexpr::typeof(REPL.softscope), mod::Module, code::String, filename::String)",
      "   @ Base ./loading.jl:1428"
     ]
    }
   ],
   "source": [
    "B * A # 左側の行列の列数と右側の行列の行数が一致していないのでエラー（Dimension Mismatch)"
   ]
  },
  {
   "cell_type": "code",
   "execution_count": 10,
   "id": "driving-taylor",
   "metadata": {},
   "outputs": [
    {
     "data": {
      "text/plain": [
       "3×2 Matrix{Int64}:\n",
       " 1  2\n",
       " 3  4\n",
       " 5  6"
      ]
     },
     "execution_count": 10,
     "metadata": {},
     "output_type": "execute_result"
    }
   ],
   "source": [
    "A = [1 2; \n",
    "     3 4; \n",
    "     5 6]\n",
    "I = [1 0 0; \n",
    "     0 1 0;\n",
    "     0 0 1]\n",
    "I * A # A * Iではない"
   ]
  },
  {
   "cell_type": "code",
   "execution_count": 11,
   "id": "least-newport",
   "metadata": {},
   "outputs": [
    {
     "data": {
      "text/plain": [
       "3×2 adjoint(::Matrix{Int64}) with eltype Int64:\n",
       " 1  4\n",
       " 2  5\n",
       " 3  6"
      ]
     },
     "execution_count": 11,
     "metadata": {},
     "output_type": "execute_result"
    }
   ],
   "source": [
    "A = [1 2 3;\n",
    "     4 5 6]\n",
    "A' # Juliaでは転置を ' で表す"
   ]
  },
  {
   "cell_type": "code",
   "execution_count": 12,
   "id": "persistent-official",
   "metadata": {},
   "outputs": [
    {
     "data": {
      "text/plain": [
       "3×2 Matrix{Int64}:\n",
       "  5   7\n",
       " 10  14\n",
       " 15  21"
      ]
     },
     "execution_count": 12,
     "metadata": {},
     "output_type": "execute_result"
    }
   ],
   "source": [
    "a = [1, 2, 3]\n",
    "b = [5, 7]\n",
    "a * b'"
   ]
  },
  {
   "cell_type": "code",
   "execution_count": 13,
   "id": "proof-hawaii",
   "metadata": {},
   "outputs": [
    {
     "data": {
      "text/plain": [
       "3×2 Matrix{Int64}:\n",
       "  7   9\n",
       "  9  11\n",
       " 11  13"
      ]
     },
     "execution_count": 13,
     "metadata": {},
     "output_type": "execute_result"
    }
   ],
   "source": [
    "f2(x, y) = 2*x + y\n",
    "f2.(a, b')"
   ]
  },
  {
   "cell_type": "code",
   "execution_count": 14,
   "id": "collective-times",
   "metadata": {},
   "outputs": [
    {
     "data": {
      "text/plain": [
       "2×2 Matrix{Float64}:\n",
       " -2.0   1.0\n",
       "  1.5  -0.5"
      ]
     },
     "execution_count": 14,
     "metadata": {},
     "output_type": "execute_result"
    }
   ],
   "source": [
    "A = [1 2; \n",
    "     3 4]\n",
    "B = inv(A) # 逆行列はinv関数"
   ]
  },
  {
   "cell_type": "code",
   "execution_count": 15,
   "id": "alike-profit",
   "metadata": {},
   "outputs": [
    {
     "data": {
      "text/plain": [
       "2×2 Matrix{Float64}:\n",
       " 1.0          0.0\n",
       " 8.88178e-16  1.0"
      ]
     },
     "execution_count": 15,
     "metadata": {},
     "output_type": "execute_result"
    }
   ],
   "source": [
    "A * B # 数値誤差の発生"
   ]
  },
  {
   "cell_type": "code",
   "execution_count": 16,
   "id": "genetic-accuracy",
   "metadata": {},
   "outputs": [
    {
     "data": {
      "text/plain": [
       "2×2 Matrix{Float64}:\n",
       " 1.0          0.0\n",
       " 2.22045e-16  1.0"
      ]
     },
     "execution_count": 16,
     "metadata": {},
     "output_type": "execute_result"
    }
   ],
   "source": [
    "B * A # 数値誤差の発生"
   ]
  },
  {
   "cell_type": "code",
   "execution_count": 17,
   "id": "olympic-initial",
   "metadata": {},
   "outputs": [
    {
     "name": "stdout",
     "output_type": "stream",
     "text": [
      "[-1.9999999999999996 0.9999999999999998; 1.4999999999999998 -0.4999999999999999]\n"
     ]
    }
   ],
   "source": [
    "println(B) # 数値誤差の確認"
   ]
  },
  {
   "cell_type": "code",
   "execution_count": 18,
   "id": "green-study",
   "metadata": {},
   "outputs": [
    {
     "name": "stdout",
     "output_type": "stream",
     "text": [
      "Rational{Int64}[1//1 0//1; 0//1 1//1]\n",
      "Rational{Int64}[1//1 0//1; 0//1 1//1]\n"
     ]
    }
   ],
   "source": [
    "A = Rational{Int}[1 2;\n",
    "                  3 4]\n",
    "B = inv(A)\n",
    "println(A * B)\n",
    "println(B * A)"
   ]
  },
  {
   "cell_type": "code",
   "execution_count": 19,
   "id": "revised-vegetable",
   "metadata": {},
   "outputs": [
    {
     "data": {
      "text/plain": [
       "2-element Vector{Rational{Int64}}:\n",
       "  3//1\n",
       " -2//1"
      ]
     },
     "execution_count": 19,
     "metadata": {},
     "output_type": "execute_result"
    }
   ],
   "source": [
    "A = Rational{Int}[1 2; \n",
    "                  3 4]\n",
    "sol = inv(A) * [-1, 1]"
   ]
  },
  {
   "cell_type": "markdown",
   "id": "british-moral",
   "metadata": {},
   "source": [
    "## 2.2 Computing Statistics"
   ]
  },
  {
   "cell_type": "code",
   "execution_count": 20,
   "id": "potential-blast",
   "metadata": {},
   "outputs": [],
   "source": [
    "using Statistics"
   ]
  },
  {
   "cell_type": "code",
   "execution_count": 21,
   "id": "corrected-share",
   "metadata": {},
   "outputs": [
    {
     "data": {
      "text/plain": [
       "5-element Vector{Float64}:\n",
       " 0.45855096701540676\n",
       " 0.7227746038422554\n",
       " 0.0017847988883038512\n",
       " 0.6917957227039702\n",
       " 0.8306982028229118"
      ]
     },
     "execution_count": 21,
     "metadata": {},
     "output_type": "execute_result"
    }
   ],
   "source": [
    "X = rand(5)"
   ]
  },
  {
   "cell_type": "code",
   "execution_count": 22,
   "id": "voluntary-gateway",
   "metadata": {},
   "outputs": [
    {
     "data": {
      "text/plain": [
       "2×5 Matrix{Float64}:\n",
       " 0.0263971  0.13458    0.902491   0.71189    0.257083\n",
       " 0.305846   0.0249597  0.0358268  0.0330126  0.12025"
      ]
     },
     "execution_count": 22,
     "metadata": {},
     "output_type": "execute_result"
    }
   ],
   "source": [
    "Y = rand(2, 5)"
   ]
  },
  {
   "cell_type": "markdown",
   "id": "stopped-terminal",
   "metadata": {},
   "source": [
    "### 2.2.1 合計，平均"
   ]
  },
  {
   "cell_type": "markdown",
   "id": "religious-house",
   "metadata": {},
   "source": [
    "合計（sum）\n",
    "$$\n",
    "s = \\sum_{n=1}^{N} x_n\n",
    "$$\n",
    "平均（mean）\n",
    "$$\n",
    "\\mu = \\cfrac{1}{N} \\sum_{n=1}^{N} x_n\n",
    "$$"
   ]
  },
  {
   "cell_type": "code",
   "execution_count": 23,
   "id": "extraordinary-somerset",
   "metadata": {},
   "outputs": [
    {
     "name": "stdout",
     "output_type": "stream",
     "text": [
      "2.705604295272848\n",
      "0.5411208590545696\n"
     ]
    }
   ],
   "source": [
    "println(sum(X))\n",
    "println(mean(X))"
   ]
  },
  {
   "cell_type": "code",
   "execution_count": 24,
   "id": "dimensional-stockholm",
   "metadata": {},
   "outputs": [
    {
     "name": "stdout",
     "output_type": "stream",
     "text": [
      "2.552337224627971\n",
      "[0.3322436313811281 0.15953992013257146 0.9383176991892506 0.7449030388288148 0.37733293509620647]\n",
      "[2.032441695598087; 0.5198955290298846;;]\n",
      "0.2552337224627971\n",
      "[0.16612181569056406 0.07976996006628573 0.4691588495946253 0.3724515194144074 0.18866646754810323]\n",
      "[0.4064883391196174; 0.10397910580597691;;]\n"
     ]
    }
   ],
   "source": [
    "println(sum(Y))\n",
    "println(sum(Y, dims=1))\n",
    "println(sum(Y, dims=2))\n",
    "println(mean(Y))\n",
    "println(mean(Y, dims=1))\n",
    "println(mean(Y, dims=2))"
   ]
  },
  {
   "cell_type": "markdown",
   "id": "proper-sample",
   "metadata": {},
   "source": [
    "### 2.2.2 分散，標準偏差"
   ]
  },
  {
   "cell_type": "markdown",
   "id": "third-america",
   "metadata": {},
   "source": [
    "分散（Variance）\n",
    "$$\n",
    "v = \\cfrac{1}{N-1} \\sum_{n=1}^{N} (x_n - \\mu)^2\n",
    "$$\n",
    "標準偏差（standard deviation)\n",
    "$$\n",
    "\\sigma = \\sqrt{v}\n",
    "$$"
   ]
  },
  {
   "cell_type": "code",
   "execution_count": 25,
   "id": "animated-international",
   "metadata": {},
   "outputs": [
    {
     "name": "stdout",
     "output_type": "stream",
     "text": [
      "0.33062713455723525\n",
      "0.10931430210552814\n",
      "0.10931430210552816\n"
     ]
    }
   ],
   "source": [
    "println(std(X))\n",
    "println(std(X).^2)\n",
    "println(var(X))"
   ]
  },
  {
   "cell_type": "markdown",
   "id": "funky-flight",
   "metadata": {},
   "source": [
    "### 2.2.3 共分散"
   ]
  },
  {
   "cell_type": "markdown",
   "id": "confident-rouge",
   "metadata": {},
   "source": [
    "共分散（covariance）\n",
    "\n",
    "D次元のベクトルを$\\rm{y_n}$とし，これが$\\rm{Y} = \\{\\rm{y_1}, \\rm{y_2}, \\dots, \\rm{y_N}\\}$のように並んでいるとする．\n",
    "\n",
    "$i$次元目と$j$次元目の共分散は以下のように定義される（$\\mu_i$および$\\nu_j$はそれぞれの次元の平均値）\n",
    "$$\n",
    "{\\rm{Cov}}_{i, j} = \\cfrac{1}{N-1} \\sum_{n=1}^{N} (x_{n,i} - \\mu_i)(x_{n,j} - mu_{j})\n",
    "$$"
   ]
  },
  {
   "cell_type": "code",
   "execution_count": 26,
   "id": "likely-grant",
   "metadata": {},
   "outputs": [
    {
     "data": {
      "text/plain": [
       "5×5 Matrix{Float64}:\n",
       "  0.039046   -0.0153167   -0.121094   -0.094856   -0.019119\n",
       " -0.0153167   0.00600833   0.0475021   0.0372095   0.00749986\n",
       " -0.121094    0.0475021    0.375553    0.294179    0.0592942\n",
       " -0.094856    0.0372095    0.294179    0.230437    0.0464465\n",
       " -0.019119    0.00749986   0.0592942   0.0464465   0.00936167"
      ]
     },
     "execution_count": 26,
     "metadata": {},
     "output_type": "execute_result"
    }
   ],
   "source": [
    "cov(Y, dims=1)"
   ]
  },
  {
   "cell_type": "code",
   "execution_count": 27,
   "id": "silent-chemistry",
   "metadata": {},
   "outputs": [
    {
     "data": {
      "text/plain": [
       "2×2 Matrix{Float64}:\n",
       "  0.145004   -0.0282875\n",
       " -0.0282875   0.0142351"
      ]
     },
     "execution_count": 27,
     "metadata": {},
     "output_type": "execute_result"
    }
   ],
   "source": [
    "cov(Y, dims=2)"
   ]
  },
  {
   "cell_type": "markdown",
   "id": "opening-average",
   "metadata": {},
   "source": [
    "## 2.3 Parameters of statistics and probability distributions"
   ]
  },
  {
   "cell_type": "code",
   "execution_count": 28,
   "id": "obvious-mixer",
   "metadata": {},
   "outputs": [
    {
     "data": {
      "text/plain": [
       "10000-element Vector{Float64}:\n",
       "  2.6280931023860257\n",
       "  0.5065449545154406\n",
       "  3.1740837004698412\n",
       "  1.5334275456565574\n",
       "  1.3844485214821514\n",
       "  0.9853224474492851\n",
       "  3.82404934775892\n",
       "  1.2733841446629555\n",
       "  2.005466448917052\n",
       "  3.6706771428236915\n",
       "  0.6695784905900902\n",
       "  2.990265345046288\n",
       "  2.129588385639398\n",
       "  ⋮\n",
       "  0.3156477909217552\n",
       "  2.374662871918768\n",
       "  6.363157339794713\n",
       "  3.4959203661872524\n",
       "  2.925779368506904\n",
       "  2.015406782758061\n",
       " -0.9259153877717852\n",
       "  1.244914029723442\n",
       "  1.8316039500402828\n",
       "  0.6176571195832153\n",
       "  0.8920311048816365\n",
       " -0.2412692513131771"
      ]
     },
     "execution_count": 28,
     "metadata": {},
     "output_type": "execute_result"
    }
   ],
   "source": [
    "using Distributions\n",
    "μ = 1.5\n",
    "σ = 2.0\n",
    "Z = rand(Normal(μ, σ), 10000)\n",
    "Z"
   ]
  },
  {
   "cell_type": "code",
   "execution_count": 29,
   "id": "infrared-regression",
   "metadata": {},
   "outputs": [
    {
     "name": "stdout",
     "output_type": "stream",
     "text": [
      "1.5159637432057727\n",
      "2.0005504854773624\n"
     ]
    }
   ],
   "source": [
    "println(mean(Z))\n",
    "println(std(Z))"
   ]
  },
  {
   "cell_type": "markdown",
   "id": "smooth-onion",
   "metadata": {},
   "source": [
    "## 2.4 微分計算"
   ]
  },
  {
   "cell_type": "markdown",
   "id": "needed-return",
   "metadata": {},
   "source": [
    "### 2.4.1 1変数関数の微分"
   ]
  },
  {
   "cell_type": "code",
   "execution_count": 41,
   "id": "premier-victory",
   "metadata": {},
   "outputs": [
    {
     "data": {
      "image/png": "[encoded data removed]",
      "text/plain": [
       "Figure(PyObject <Figure size 400x600 with 2 Axes>)"
      ]
     },
     "metadata": {},
     "output_type": "display_data"
    }
   ],
   "source": [
    "using PyPlot\n",
    "\n",
    "# f(x)を二次関数として定義\n",
    "f(x) = -(x + 1)*(x - 1)\n",
    "\n",
    "# hを微小な値として設定（10のマイナス10乗）\n",
    "h = 1.0e-10\n",
    "\n",
    "# 導関数f'の近似式\n",
    "fd(a) = (f(a + h) - f(a)) / h # f'だと\"syntax: invalid function name \"f'\"\"となりエラー\n",
    "\n",
    "# 関数の可視化範囲\n",
    "xs = range(-1, 1, length = 100)\n",
    "\n",
    "fig, axes = subplots(2, 1, figsize=(4, 6))\n",
    "\n",
    "# 関数のプロット\n",
    "axes[1].plot(xs, f.(xs), \"b\")\n",
    "axes[1].grid()\n",
    "axes[1].set_xlabel(\"x\"), axes[1].set_ylabel(\"y\")\n",
    "axes[1].set_title(\"function f(x)\")\n",
    "\n",
    "# 導関数のプロット\n",
    "axes[2].plot(xs, fd.(xs), \"r\")\n",
    "axes[2].grid()\n",
    "axes[2].set_xlabel(\"x\"), axes[2].set_ylabel(\"y\")\n",
    "axes[2].set_title(\"derivative f'(x)\")\n",
    "\n",
    "tight_layout()"
   ]
  },
  {
   "cell_type": "markdown",
   "id": "geological-scenario",
   "metadata": {},
   "source": [
    "### 2.4.2 多変数関数の微分"
   ]
  },
  {
   "cell_type": "code",
   "execution_count": 49,
   "id": "contained-delight",
   "metadata": {},
   "outputs": [
    {
     "data": {
      "image/png": "[encoded data removed]",
      "text/plain": [
       "Figure(PyObject <Figure size 800x400 with 2 Axes>)"
      ]
     },
     "metadata": {},
     "output_type": "display_data"
    }
   ],
   "source": [
    "# グラフを可視化する際の解像度\n",
    "L = 10\n",
    "\n",
    "# f₂(x)を可視化する範囲\n",
    "xs₁ = range(-1, 1, length = L)\n",
    "xs₂ = range(-1, 1, length = L)\n",
    "\n",
    "# 2変数関数の定義\n",
    "f₂(x) = -(x .+ 1)'*(x .- 1)\n",
    "\n",
    "# 2変数関数の勾配\n",
    "∇f₂(x) = -2x\n",
    "\n",
    "fig, axes = subplots(1, 2, figsize = (8, 4))\n",
    "\n",
    "# 関数の等高線図の可視化\n",
    "cs = axes[1].contour(xs₁, xs₂, [f₂([x₁, x₂]) for x₁ in xs₁, x₂ in xs₂]')\n",
    "axes[1].clabel(cs, inline = true)\n",
    "axes[1].set_xlabel(\"x₁\"), axes[1].set_ylabel(\"x₂\")\n",
    "axes[1].set_title(\"f₂(x)\")\n",
    "\n",
    "# 勾配ベクトルの計算と可視化\n",
    "vec1 = [∇f₂([x₁, x₂])[1] for x₁ in xs₁, x₂ in xs₂]\n",
    "vec2 = [∇f₂([x₁, x₂])[2] for x₁ in xs₁, x₂ in xs₂]\n",
    "\n",
    "axes[2].quiver(repeat(xs₁, 1, L), repeat(xs₂', L, 1), vec1, vec2)\n",
    "axes[2].set_xlabel(\"x₁\"), axes[2].set_ylabel(\"x₂\")\n",
    "axes[2].set_title(\"∇f₂(x)\")\n",
    "\n",
    "tight_layout()"
   ]
  },
  {
   "cell_type": "code",
   "execution_count": null,
   "id": "static-telling",
   "metadata": {},
   "outputs": [],
   "source": []
  }
 ],
 "metadata": {
  "kernelspec": {
   "display_name": "Julia 1.8.1",
   "language": "julia",
   "name": "julia-1.8"
  },
  "language_info": {
   "file_extension": ".jl",
   "mimetype": "application/julia",
   "name": "julia",
   "version": "1.8.1"
  }
 },
 "nbformat": 4,
 "nbformat_minor": 5
}
