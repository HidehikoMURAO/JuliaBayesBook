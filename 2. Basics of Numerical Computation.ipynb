{
 "cells": [
  {
   "cell_type": "markdown",
   "id": "deadly-clock",
   "metadata": {},
   "source": [
    "## 2.1 vector and matrix computations"
   ]
  },
  {
   "cell_type": "markdown",
   "id": "excessive-unknown",
   "metadata": {},
   "source": [
    "### 2.1.1 Vector computation"
   ]
  },
  {
   "cell_type": "code",
   "execution_count": 1,
   "id": "incredible-simple",
   "metadata": {},
   "outputs": [
    {
     "data": {
      "text/plain": [
       "3-element Vector{Int64}:\n",
       " 2\n",
       " 4\n",
       " 6"
      ]
     },
     "execution_count": 1,
     "metadata": {},
     "output_type": "execute_result"
    }
   ],
   "source": [
    "a = [1, 2, 3] # ベクトルに対してスカラー値を掛けると要素毎に値が掛け算されたベクトルが出力される\n",
    "2 * a"
   ]
  },
  {
   "cell_type": "code",
   "execution_count": 2,
   "id": "surface-cross",
   "metadata": {},
   "outputs": [
    {
     "data": {
      "text/plain": [
       "3-element Vector{Int64}:\n",
       " 5\n",
       " 7\n",
       " 9"
      ]
     },
     "execution_count": 2,
     "metadata": {},
     "output_type": "execute_result"
    }
   ],
   "source": [
    "b = [4, 5, 6]\n",
    "a + b # ベクトルのサイズが同じであることが必要"
   ]
  },
  {
   "cell_type": "code",
   "execution_count": 3,
   "id": "internal-working",
   "metadata": {},
   "outputs": [
    {
     "data": {
      "text/plain": [
       "3-element Vector{Int64}:\n",
       "  4\n",
       " 10\n",
       " 18"
      ]
     },
     "execution_count": 3,
     "metadata": {},
     "output_type": "execute_result"
    }
   ],
   "source": [
    "a .* b # 対応する要素毎に掛け合わせたい場合は .* によってブロードキャストする"
   ]
  },
  {
   "cell_type": "code",
   "execution_count": 4,
   "id": "familiar-medium",
   "metadata": {},
   "outputs": [
    {
     "data": {
      "text/plain": [
       "32"
      ]
     },
     "execution_count": 4,
     "metadata": {},
     "output_type": "execute_result"
    }
   ],
   "source": [
    "sum(a .* b) # 内積を行うには，上記の各要素の掛け算をsum関数で足し合わせる"
   ]
  },
  {
   "cell_type": "code",
   "execution_count": 5,
   "id": "matched-skirt",
   "metadata": {},
   "outputs": [
    {
     "data": {
      "text/plain": [
       "32"
      ]
     },
     "execution_count": 5,
     "metadata": {},
     "output_type": "execute_result"
    }
   ],
   "source": [
    "a' * b # 内積は，1x3と3x1の行列の積と考えると記述がシンプルになる"
   ]
  },
  {
   "cell_type": "markdown",
   "id": "internal-perfume",
   "metadata": {},
   "source": [
    "### 2.1.2 Matrix computation"
   ]
  },
  {
   "cell_type": "code",
   "execution_count": 6,
   "id": "known-asbestos",
   "metadata": {},
   "outputs": [
    {
     "data": {
      "text/plain": [
       "2×3 Matrix{Int64}:\n",
       " 11  22  33\n",
       " 44  55  66"
      ]
     },
     "execution_count": 6,
     "metadata": {},
     "output_type": "execute_result"
    }
   ],
   "source": [
    "A = [1 2 3;\n",
    "     4 5 6]\n",
    "B = [10 20 30; \n",
    "     40 50 60]\n",
    "A + B # 行列同士の和"
   ]
  },
  {
   "cell_type": "code",
   "execution_count": 7,
   "id": "valued-montreal",
   "metadata": {},
   "outputs": [
    {
     "data": {
      "text/plain": [
       "3×4 Matrix{Int64}:\n",
       " 110  140  170  200\n",
       " 230  300  370  440\n",
       " 350  460  570  680"
      ]
     },
     "execution_count": 7,
     "metadata": {},
     "output_type": "execute_result"
    }
   ],
   "source": [
    "A = [1 2; \n",
    "     3 4;\n",
    "     5 6] # 3x2行列\n",
    "B = [10 20 30 40; \n",
    "     50 60 70 80] # 2x4行列　\n",
    "C = A * B # 行列積(matrix product)"
   ]
  },
  {
   "cell_type": "markdown",
   "id": "brutal-wrist",
   "metadata": {},
   "source": [
    "行列Cのi列j行目の要素は次式で計算される．\n",
    "$$\n",
    "C_{i, j} = \\sum_{k = 1}^{K} A_{i, k} B_{k, j}\n",
    "$$"
   ]
  },
  {
   "cell_type": "code",
   "execution_count": 8,
   "id": "suburban-spray",
   "metadata": {},
   "outputs": [
    {
     "data": {
      "text/plain": [
       "3×4 Matrix{Int64}:\n",
       " 110  140  170  200\n",
       " 230  300  370  440\n",
       " 350  460  570  680"
      ]
     },
     "execution_count": 8,
     "metadata": {},
     "output_type": "execute_result"
    }
   ],
   "source": [
    "M = size(A, 1) # Aの行数\n",
    "N = size(B, 2) # Bの列数\n",
    "\n",
    "# M x N の行列を作成\n",
    "C = [sum(A[i,:] .* B[:,j]) for i in 1:M, j in 1:N]"
   ]
  },
  {
   "cell_type": "code",
   "execution_count": 9,
   "id": "chemical-scholar",
   "metadata": {},
   "outputs": [
    {
     "ename": "LoadError",
     "evalue": "DimensionMismatch: matrix A has dimensions (2,4), matrix B has dimensions (3,2)",
     "output_type": "error",
     "traceback": [
      "DimensionMismatch: matrix A has dimensions (2,4), matrix B has dimensions (3,2)",
      "",
      "Stacktrace:",
      " [1] _generic_matmatmul!(C::Matrix{Int64}, tA::Char, tB::Char, A::Matrix{Int64}, B::Matrix{Int64}, _add::LinearAlgebra.MulAddMul{true, true, Bool, Bool})",
      "   @ LinearAlgebra /Applications/Julia-1.8.app/Contents/Resources/julia/share/julia/stdlib/v1.8/LinearAlgebra/src/matmul.jl:856",
      " [2] generic_matmatmul!(C::Matrix{Int64}, tA::Char, tB::Char, A::Matrix{Int64}, B::Matrix{Int64}, _add::LinearAlgebra.MulAddMul{true, true, Bool, Bool})",
      "   @ LinearAlgebra /Applications/Julia-1.8.app/Contents/Resources/julia/share/julia/stdlib/v1.8/LinearAlgebra/src/matmul.jl:844",
      " [3] mul!",
      "   @ /Applications/Julia-1.8.app/Contents/Resources/julia/share/julia/stdlib/v1.8/LinearAlgebra/src/matmul.jl:303 [inlined]",
      " [4] mul!",
      "   @ /Applications/Julia-1.8.app/Contents/Resources/julia/share/julia/stdlib/v1.8/LinearAlgebra/src/matmul.jl:276 [inlined]",
      " [5] *(A::Matrix{Int64}, B::Matrix{Int64})",
      "   @ LinearAlgebra /Applications/Julia-1.8.app/Contents/Resources/julia/share/julia/stdlib/v1.8/LinearAlgebra/src/matmul.jl:141",
      " [6] top-level scope",
      "   @ In[9]:1",
      " [7] eval",
      "   @ ./boot.jl:368 [inlined]",
      " [8] include_string(mapexpr::typeof(REPL.softscope), mod::Module, code::String, filename::String)",
      "   @ Base ./loading.jl:1428"
     ]
    }
   ],
   "source": [
    "B * A # 左側の行列の列数と右側の行列の行数が一致していないのでエラー（Dimension Mismatch)"
   ]
  },
  {
   "cell_type": "code",
   "execution_count": 10,
   "id": "driving-taylor",
   "metadata": {},
   "outputs": [
    {
     "data": {
      "text/plain": [
       "3×2 Matrix{Int64}:\n",
       " 1  2\n",
       " 3  4\n",
       " 5  6"
      ]
     },
     "execution_count": 10,
     "metadata": {},
     "output_type": "execute_result"
    }
   ],
   "source": [
    "A = [1 2; \n",
    "     3 4; \n",
    "     5 6]\n",
    "I = [1 0 0; \n",
    "     0 1 0;\n",
    "     0 0 1]\n",
    "I * A # A * Iではない"
   ]
  },
  {
   "cell_type": "code",
   "execution_count": 11,
   "id": "least-newport",
   "metadata": {},
   "outputs": [
    {
     "data": {
      "text/plain": [
       "3×2 adjoint(::Matrix{Int64}) with eltype Int64:\n",
       " 1  4\n",
       " 2  5\n",
       " 3  6"
      ]
     },
     "execution_count": 11,
     "metadata": {},
     "output_type": "execute_result"
    }
   ],
   "source": [
    "A = [1 2 3;\n",
    "     4 5 6]\n",
    "A' # Juliaでは転置を ' で表す"
   ]
  },
  {
   "cell_type": "code",
   "execution_count": 12,
   "id": "persistent-official",
   "metadata": {},
   "outputs": [
    {
     "data": {
      "text/plain": [
       "3×2 Matrix{Int64}:\n",
       "  5   7\n",
       " 10  14\n",
       " 15  21"
      ]
     },
     "execution_count": 12,
     "metadata": {},
     "output_type": "execute_result"
    }
   ],
   "source": [
    "a = [1, 2, 3]\n",
    "b = [5, 7]\n",
    "a * b'"
   ]
  },
  {
   "cell_type": "code",
   "execution_count": 13,
   "id": "proof-hawaii",
   "metadata": {},
   "outputs": [
    {
     "data": {
      "text/plain": [
       "3×2 Matrix{Int64}:\n",
       "  7   9\n",
       "  9  11\n",
       " 11  13"
      ]
     },
     "execution_count": 13,
     "metadata": {},
     "output_type": "execute_result"
    }
   ],
   "source": [
    "f2(x, y) = 2*x + y\n",
    "f2.(a, b')"
   ]
  },
  {
   "cell_type": "code",
   "execution_count": 14,
   "id": "collective-times",
   "metadata": {},
   "outputs": [
    {
     "data": {
      "text/plain": [
       "2×2 Matrix{Float64}:\n",
       " -2.0   1.0\n",
       "  1.5  -0.5"
      ]
     },
     "execution_count": 14,
     "metadata": {},
     "output_type": "execute_result"
    }
   ],
   "source": [
    "A = [1 2; \n",
    "     3 4]\n",
    "B = inv(A) # 逆行列はinv関数"
   ]
  },
  {
   "cell_type": "code",
   "execution_count": 15,
   "id": "alike-profit",
   "metadata": {},
   "outputs": [
    {
     "data": {
      "text/plain": [
       "2×2 Matrix{Float64}:\n",
       " 1.0          0.0\n",
       " 8.88178e-16  1.0"
      ]
     },
     "execution_count": 15,
     "metadata": {},
     "output_type": "execute_result"
    }
   ],
   "source": [
    "A * B # 数値誤差の発生"
   ]
  },
  {
   "cell_type": "code",
   "execution_count": 16,
   "id": "genetic-accuracy",
   "metadata": {},
   "outputs": [
    {
     "data": {
      "text/plain": [
       "2×2 Matrix{Float64}:\n",
       " 1.0          0.0\n",
       " 2.22045e-16  1.0"
      ]
     },
     "execution_count": 16,
     "metadata": {},
     "output_type": "execute_result"
    }
   ],
   "source": [
    "B * A # 数値誤差の発生"
   ]
  },
  {
   "cell_type": "code",
   "execution_count": 17,
   "id": "olympic-initial",
   "metadata": {},
   "outputs": [
    {
     "name": "stdout",
     "output_type": "stream",
     "text": [
      "[-1.9999999999999996 0.9999999999999998; 1.4999999999999998 -0.4999999999999999]\n"
     ]
    }
   ],
   "source": [
    "println(B) # 数値誤差の確認"
   ]
  },
  {
   "cell_type": "code",
   "execution_count": 18,
   "id": "green-study",
   "metadata": {},
   "outputs": [
    {
     "name": "stdout",
     "output_type": "stream",
     "text": [
      "Rational{Int64}[1//1 0//1; 0//1 1//1]\n",
      "Rational{Int64}[1//1 0//1; 0//1 1//1]\n"
     ]
    }
   ],
   "source": [
    "A = Rational{Int}[1 2;\n",
    "                  3 4]\n",
    "B = inv(A)\n",
    "println(A * B)\n",
    "println(B * A)"
   ]
  },
  {
   "cell_type": "code",
   "execution_count": 19,
   "id": "revised-vegetable",
   "metadata": {},
   "outputs": [
    {
     "data": {
      "text/plain": [
       "2-element Vector{Rational{Int64}}:\n",
       "  3//1\n",
       " -2//1"
      ]
     },
     "execution_count": 19,
     "metadata": {},
     "output_type": "execute_result"
    }
   ],
   "source": [
    "A = Rational{Int}[1 2; \n",
    "                  3 4]\n",
    "sol = inv(A) * [-1, 1]"
   ]
  },
  {
   "cell_type": "markdown",
   "id": "british-moral",
   "metadata": {},
   "source": [
    "## 2.2 Computing Statistics"
   ]
  },
  {
   "cell_type": "code",
   "execution_count": 20,
   "id": "potential-blast",
   "metadata": {},
   "outputs": [],
   "source": [
    "using Statistics"
   ]
  },
  {
   "cell_type": "code",
   "execution_count": 21,
   "id": "corrected-share",
   "metadata": {},
   "outputs": [
    {
     "data": {
      "text/plain": [
       "5-element Vector{Float64}:\n",
       " 0.15779437368981408\n",
       " 0.586538133012701\n",
       " 0.21410363312698388\n",
       " 0.8915573052321386\n",
       " 0.4746865509779763"
      ]
     },
     "execution_count": 21,
     "metadata": {},
     "output_type": "execute_result"
    }
   ],
   "source": [
    "X = rand(5)"
   ]
  },
  {
   "cell_type": "code",
   "execution_count": 22,
   "id": "voluntary-gateway",
   "metadata": {},
   "outputs": [
    {
     "data": {
      "text/plain": [
       "2×5 Matrix{Float64}:\n",
       " 0.470819  0.706167  0.292712  0.141957  0.571122\n",
       " 0.604842  0.298566  0.770466  0.250777  0.940616"
      ]
     },
     "execution_count": 22,
     "metadata": {},
     "output_type": "execute_result"
    }
   ],
   "source": [
    "Y = rand(2, 5)"
   ]
  },
  {
   "cell_type": "markdown",
   "id": "stopped-terminal",
   "metadata": {},
   "source": [
    "### 2.2.1 合計，平均"
   ]
  },
  {
   "cell_type": "markdown",
   "id": "religious-house",
   "metadata": {},
   "source": [
    "合計（sum）\n",
    "$$\n",
    "s = \\sum_{n=1}^{N} x_n\n",
    "$$\n",
    "平均（mean）\n",
    "$$\n",
    "\\mu = \\cfrac{1}{N} \\sum_{n=1}^{N} x_n\n",
    "$$"
   ]
  },
  {
   "cell_type": "code",
   "execution_count": 23,
   "id": "extraordinary-somerset",
   "metadata": {},
   "outputs": [
    {
     "name": "stdout",
     "output_type": "stream",
     "text": [
      "2.324679996039614\n",
      "0.46493599920792283\n"
     ]
    }
   ],
   "source": [
    "println(sum(X))\n",
    "println(mean(X))"
   ]
  },
  {
   "cell_type": "code",
   "execution_count": 24,
   "id": "dimensional-stockholm",
   "metadata": {},
   "outputs": [
    {
     "name": "stdout",
     "output_type": "stream",
     "text": [
      "5.04804298390358\n",
      "[1.0756611614811342 1.0047331334177825 1.0631776940984101 0.3927331863619574 1.511737808544295]\n",
      "[2.182775784198138; 2.8652671997054413;;]\n",
      "0.504804298390358\n",
      "[0.5378305807405671 0.5023665667088912 0.5315888470492051 0.1963665931809787 0.7558689042721475]\n",
      "[0.4365551568396276; 0.5730534399410883;;]\n"
     ]
    }
   ],
   "source": [
    "println(sum(Y))\n",
    "println(sum(Y, dims=1))\n",
    "println(sum(Y, dims=2))\n",
    "println(mean(Y))\n",
    "println(mean(Y, dims=1))\n",
    "println(mean(Y, dims=2))"
   ]
  },
  {
   "cell_type": "markdown",
   "id": "proper-sample",
   "metadata": {},
   "source": [
    "### 2.2.2 分散，標準偏差"
   ]
  },
  {
   "cell_type": "markdown",
   "id": "third-america",
   "metadata": {},
   "source": [
    "分散（Variance）\n",
    "$$\n",
    "v = \\cfrac{1}{N-1} \\sum_{n=1}^{N} (x_n - \\mu)^2\n",
    "$$\n",
    "標準偏差（standard deviation)\n",
    "$$\n",
    "\\sigma = \\sqrt{v}\n",
    "$$"
   ]
  },
  {
   "cell_type": "code",
   "execution_count": 25,
   "id": "animated-international",
   "metadata": {},
   "outputs": [
    {
     "name": "stdout",
     "output_type": "stream",
     "text": [
      "0.29754862836147117\n",
      "0.08853518623979288\n",
      "0.0885351862397929\n"
     ]
    }
   ],
   "source": [
    "println(std(X))\n",
    "println(std(X).^2)\n",
    "println(var(X))"
   ]
  },
  {
   "cell_type": "markdown",
   "id": "funky-flight",
   "metadata": {},
   "source": [
    "### 2.2.3 共分散"
   ]
  },
  {
   "cell_type": "markdown",
   "id": "confident-rouge",
   "metadata": {},
   "source": [
    "共分散（covariance）\n",
    "\n",
    "D次元のベクトルを$\\rm{y_n}$とし，これが$\\rm{Y} = \\{\\rm{y_1}, \\rm{y_2}, \\dots, \\rm{y_N}\\}$のように並んでいるとする．\n",
    "\n",
    "$i$次元目と$j$次元目の共分散は以下のように定義される（$\\mu_i$および$\\nu_j$はそれぞれの次元の平均値）\n",
    "$$\n",
    "{\\rm{Cov}}_{i, j} = \\cfrac{1}{N-1} \\sum_{n=1}^{N} (x_{n,i} - \\mu_i)(x_{n,j} - mu_{j})\n",
    "$$"
   ]
  },
  {
   "cell_type": "code",
   "execution_count": 26,
   "id": "likely-grant",
   "metadata": {},
   "outputs": [
    {
     "data": {
      "text/plain": [
       "5×5 Matrix{Float64}:\n",
       "  0.00898106  -0.0273139   0.032015    0.00729219   0.0247604\n",
       " -0.0273139    0.0830691  -0.0973664  -0.0221776   -0.0753031\n",
       "  0.032015    -0.0973664   0.114125    0.0259946    0.0882638\n",
       "  0.00729219  -0.0221776   0.0259946   0.00592091   0.0201042\n",
       "  0.0247604   -0.0753031   0.0882638   0.0201042    0.0682632"
      ]
     },
     "execution_count": 26,
     "metadata": {},
     "output_type": "execute_result"
    }
   ],
   "source": [
    "cov(Y, dims=1)"
   ]
  },
  {
   "cell_type": "code",
   "execution_count": 27,
   "id": "silent-chemistry",
   "metadata": {},
   "outputs": [
    {
     "data": {
      "text/plain": [
       "2×2 Matrix{Float64}:\n",
       " 0.049863   0.0107729\n",
       " 0.0107729  0.0885725"
      ]
     },
     "execution_count": 27,
     "metadata": {},
     "output_type": "execute_result"
    }
   ],
   "source": [
    "cov(Y, dims=2)"
   ]
  },
  {
   "cell_type": "markdown",
   "id": "opening-average",
   "metadata": {},
   "source": [
    "## 2.3 Parameters of statistics and probability distributions"
   ]
  },
  {
   "cell_type": "code",
   "execution_count": 28,
   "id": "obvious-mixer",
   "metadata": {},
   "outputs": [
    {
     "data": {
      "text/plain": [
       "10000-element Vector{Float64}:\n",
       " -0.8173186988613939\n",
       "  2.5469986837476792\n",
       "  1.4907995517428694\n",
       "  1.3905975666034975\n",
       "  3.295429633824339\n",
       "  2.2076557609146885\n",
       "  3.5031187306755505\n",
       "  1.7880431337224296\n",
       "  4.792578684523711\n",
       "  0.41754836984824206\n",
       "  4.768386007397119\n",
       " -0.24189554125046642\n",
       "  3.05645552099568\n",
       "  ⋮\n",
       "  2.0358452781458922\n",
       " -0.9304091001162047\n",
       "  4.601786878814147\n",
       "  2.9660018899293323\n",
       "  2.708226487015584\n",
       "  3.8158968293947884\n",
       "  2.486115106901167\n",
       " -0.6841672521256084\n",
       "  0.041274783300593754\n",
       " -2.600589003252834\n",
       "  2.282466636659256\n",
       " -0.4956190500074533"
      ]
     },
     "execution_count": 28,
     "metadata": {},
     "output_type": "execute_result"
    }
   ],
   "source": [
    "using Distributions\n",
    "μ = 1.5\n",
    "σ = 2.0\n",
    "Z = rand(Normal(μ, σ), 10000)\n",
    "Z"
   ]
  },
  {
   "cell_type": "code",
   "execution_count": 29,
   "id": "infrared-regression",
   "metadata": {},
   "outputs": [
    {
     "name": "stdout",
     "output_type": "stream",
     "text": [
      "1.541286643217292\n",
      "1.9804597628103584\n"
     ]
    }
   ],
   "source": [
    "println(mean(Z))\n",
    "println(std(Z))"
   ]
  },
  {
   "cell_type": "code",
   "execution_count": null,
   "id": "established-halloween",
   "metadata": {},
   "outputs": [],
   "source": []
  }
 ],
 "metadata": {
  "kernelspec": {
   "display_name": "Julia 1.8.1",
   "language": "julia",
   "name": "julia-1.8"
  },
  "language_info": {
   "file_extension": ".jl",
   "mimetype": "application/julia",
   "name": "julia",
   "version": "1.8.1"
  }
 },
 "nbformat": 4,
 "nbformat_minor": 5
}
