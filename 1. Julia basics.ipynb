{
 "cells": [
  {
   "cell_type": "markdown",
   "id": "oriented-ancient",
   "metadata": {},
   "source": [
    "# 1.2 Basic Grammer"
   ]
  },
  {
   "cell_type": "markdown",
   "id": "liberal-cream",
   "metadata": {},
   "source": [
    "## 1.2.1 Variables and Basic Operations"
   ]
  },
  {
   "cell_type": "code",
   "execution_count": 1,
   "id": "nonprofit-seeker",
   "metadata": {},
   "outputs": [
    {
     "data": {
      "text/plain": [
       "\"Hi!\""
      ]
     },
     "execution_count": 1,
     "metadata": {},
     "output_type": "execute_result"
    }
   ],
   "source": [
    "x = 3\n",
    "y = 1.2\n",
    "z = \"Hi!\""
   ]
  },
  {
   "cell_type": "code",
   "execution_count": 2,
   "id": "removed-quantum",
   "metadata": {},
   "outputs": [
    {
     "data": {
      "text/plain": [
       "Int64"
      ]
     },
     "execution_count": 2,
     "metadata": {},
     "output_type": "execute_result"
    }
   ],
   "source": [
    "typeof(x)"
   ]
  },
  {
   "cell_type": "code",
   "execution_count": 3,
   "id": "funny-omega",
   "metadata": {},
   "outputs": [
    {
     "data": {
      "text/plain": [
       "Float64"
      ]
     },
     "execution_count": 3,
     "metadata": {},
     "output_type": "execute_result"
    }
   ],
   "source": [
    "typeof(y)"
   ]
  },
  {
   "cell_type": "code",
   "execution_count": 4,
   "id": "explicit-summary",
   "metadata": {},
   "outputs": [
    {
     "data": {
      "text/plain": [
       "String"
      ]
     },
     "execution_count": 4,
     "metadata": {},
     "output_type": "execute_result"
    }
   ],
   "source": [
    "typeof(z)"
   ]
  },
  {
   "cell_type": "code",
   "execution_count": 5,
   "id": "square-decimal",
   "metadata": {},
   "outputs": [
    {
     "data": {
      "text/plain": [
       "4"
      ]
     },
     "execution_count": 5,
     "metadata": {},
     "output_type": "execute_result"
    }
   ],
   "source": [
    "x + 1"
   ]
  },
  {
   "cell_type": "markdown",
   "id": "loaded-grove",
   "metadata": {},
   "source": [
    "### Unicode input https://docs.julialang.org/en/v1/manual/unicode-input/"
   ]
  },
  {
   "cell_type": "code",
   "execution_count": 6,
   "id": "biblical-humidity",
   "metadata": {},
   "outputs": [
    {
     "data": {
      "text/plain": [
       "4.0"
      ]
     },
     "execution_count": 6,
     "metadata": {},
     "output_type": "execute_result"
    }
   ],
   "source": [
    "# ギリシャ文字\n",
    "μ = 0.0 #(\\mu)\n",
    "σ = 2.0 #(\\sigma)\n",
    "# 下付き\n",
    "xᵢ = 0 #(x\\_i)\n",
    "# 上付き\n",
    "σ² = σ^2 #(\\sigma\\^2)"
   ]
  },
  {
   "cell_type": "markdown",
   "id": "entire-christopher",
   "metadata": {},
   "source": [
    "## 1.2.2 Control Syntax"
   ]
  },
  {
   "cell_type": "code",
   "execution_count": 7,
   "id": "active-indianapolis",
   "metadata": {},
   "outputs": [
    {
     "name": "stdout",
     "output_type": "stream",
     "text": [
      " x is less than y. \n"
     ]
    }
   ],
   "source": [
    "x = 1.0\n",
    "y = 2.0\n",
    "if x < y\n",
    "    println(\" x is less than y. \")\n",
    "elseif x ==y\n",
    "    println(\"x is equal to y. \")\n",
    "else\n",
    "    println(\"x is greater than y. \")\n",
    "end"
   ]
  },
  {
   "cell_type": "code",
   "execution_count": 8,
   "id": "narrow-tucson",
   "metadata": {},
   "outputs": [
    {
     "name": "stdout",
     "output_type": "stream",
     "text": [
      "T\n"
     ]
    }
   ],
   "source": [
    "x = -3\n",
    "y = x < 0 ? \"T\" : \"F\" # Ternary operator\n",
    "println(y)"
   ]
  },
  {
   "cell_type": "code",
   "execution_count": 9,
   "id": "metallic-alcohol",
   "metadata": {},
   "outputs": [
    {
     "name": "stdout",
     "output_type": "stream",
     "text": [
      "a = 1, b = 0\n"
     ]
    }
   ],
   "source": [
    "a = 0\n",
    "b = 0\n",
    "true && (a = 1) # Short-Circuit Evaluation\n",
    "true || (b = 1)\n",
    "println(\"a = $(a), b = $(b)\")"
   ]
  },
  {
   "cell_type": "code",
   "execution_count": 10,
   "id": "casual-crown",
   "metadata": {},
   "outputs": [
    {
     "name": "stdout",
     "output_type": "stream",
     "text": [
      "1\n",
      "2\n",
      "3\n",
      "4\n",
      "5\n",
      "6\n",
      "7\n",
      "8\n",
      "9\n",
      "10\n"
     ]
    }
   ],
   "source": [
    "for i in 1:10\n",
    "    println(i)\n",
    "end"
   ]
  },
  {
   "cell_type": "markdown",
   "id": "94df62ab",
   "metadata": {},
   "source": [
    "## 1.2.3 Function"
   ]
  },
  {
   "cell_type": "code",
   "execution_count": 1,
   "id": "7d5da3f5",
   "metadata": {},
   "outputs": [
    {
     "data": {
      "text/plain": [
       "myinv (generic function with 1 method)"
      ]
     },
     "execution_count": 1,
     "metadata": {},
     "output_type": "execute_result"
    }
   ],
   "source": [
    "myinv(x) = 1/x"
   ]
  },
  {
   "cell_type": "code",
   "execution_count": 3,
   "id": "72764ef8",
   "metadata": {},
   "outputs": [
    {
     "data": {
      "text/plain": [
       "0.3333333333333333"
      ]
     },
     "execution_count": 3,
     "metadata": {},
     "output_type": "execute_result"
    }
   ],
   "source": [
    "myinv(3)"
   ]
  },
  {
   "cell_type": "code",
   "execution_count": 4,
   "id": "c58ee9f1",
   "metadata": {},
   "outputs": [
    {
     "data": {
      "text/plain": [
       "myinv (generic function with 1 method)"
      ]
     },
     "execution_count": 4,
     "metadata": {},
     "output_type": "execute_result"
    }
   ],
   "source": [
    "function myinv(x)\n",
    "    return 1/x    # returnは省略可能\n",
    "end"
   ]
  },
  {
   "cell_type": "code",
   "execution_count": 5,
   "id": "de9674ed",
   "metadata": {},
   "outputs": [
    {
     "data": {
      "text/plain": [
       "mymean (generic function with 1 method)"
      ]
     },
     "execution_count": 5,
     "metadata": {},
     "output_type": "execute_result"
    }
   ],
   "source": [
    "function mymean(x, y)\n",
    "    return (x + y) / 2\n",
    "end"
   ]
  },
  {
   "cell_type": "code",
   "execution_count": 6,
   "id": "765e2745",
   "metadata": {},
   "outputs": [
    {
     "data": {
      "text/plain": [
       "1.5"
      ]
     },
     "execution_count": 6,
     "metadata": {},
     "output_type": "execute_result"
    }
   ],
   "source": [
    "mymean(1.0, 2.0)"
   ]
  },
  {
   "cell_type": "code",
   "execution_count": null,
   "id": "98778931",
   "metadata": {},
   "outputs": [],
   "source": []
  }
 ],
 "metadata": {
  "kernelspec": {
   "display_name": "Julia 1.8.1",
   "language": "julia",
   "name": "julia-1.8"
  },
  "language_info": {
   "file_extension": ".jl",
   "mimetype": "application/julia",
   "name": "julia",
   "version": "1.8.1"
  }
 },
 "nbformat": 4,
 "nbformat_minor": 5
}
